{
 "cells": [
  {
   "cell_type": "markdown",
   "id": "481d6f54",
   "metadata": {},
   "source": [
    "# Rekursif"
   ]
  },
  {
   "cell_type": "markdown",
   "id": "c7775832",
   "metadata": {},
   "source": [
    "fungsi rekursif adalah sebuah fungsi yang memanggil dirinya sendiri sebagai bagian dari prosesnya.\n"
   ]
  },
  {
   "cell_type": "markdown",
   "id": "402a1a51",
   "metadata": {},
   "source": [
    "1. Struktur Dasar Rekursif di python"
   ]
  },
  {
   "cell_type": "code",
   "execution_count": null,
   "id": "255a12d4",
   "metadata": {},
   "outputs": [],
   "source": [
    "def fungsi_rekursif(input_data):\n",
    "    # 1. Basis Kasus (Wajib Ada!)\n",
    "    if input_data adalah kondisi_berhenti:\n",
    "        return nilai_langsung_terkecil  # Nilai yang tidak perlu rekursi\n",
    "\n",
    "    # 2. Langkah Rekursif (Wajib Ada!)\n",
    "    else:\n",
    "        # Panggil fungsi itu sendiri dengan input yang LEBIH SEDERHANA\n",
    "        return operasi + fungsi_rekursif(input_data_yang_lebih_sederhana)"
   ]
  },
  {
   "cell_type": "markdown",
   "id": "8757d2b2",
   "metadata": {},
   "source": [
    "Factorial"
   ]
  },
  {
   "cell_type": "code",
   "execution_count": 18,
   "id": "68ad6f4e",
   "metadata": {},
   "outputs": [
    {
     "name": "stdout",
     "output_type": "stream",
     "text": [
      "Faktorial dari 5 adalah: 120\n"
     ]
    }
   ],
   "source": [
    "def faktorial(n):\n",
    "    # Basis Kasus: 0! adalah 1\n",
    "    if n == 0:\n",
    "        return 1\n",
    "    # Langkah Rekursif: n * (n-1)!\n",
    "    else:\n",
    "        return n * faktorial(n - 1)\n",
    "\n",
    "print(f\"Faktorial dari 5 adalah: {faktorial(5)}\") \n",
    "# Output: 120 (5 * 4 * 3 * 2 * 1)"
   ]
  },
  {
   "cell_type": "markdown",
   "id": "ee108b20",
   "metadata": {},
   "source": [
    "Fibonacci"
   ]
  },
  {
   "cell_type": "code",
   "execution_count": 19,
   "id": "2ad96474",
   "metadata": {},
   "outputs": [
    {
     "name": "stdout",
     "output_type": "stream",
     "text": [
      "Bilangan Fibonacci ke-7 adalah: 13\n"
     ]
    }
   ],
   "source": [
    "def fibonacci(n):\n",
    "    # Basis Kasus 1: F0 adalah 0\n",
    "    if n == 0:\n",
    "        return 0\n",
    "    # Basis Kasus 2: F1 adalah 1\n",
    "    elif n == 1:\n",
    "        return 1\n",
    "    # Langkah Rekursif: Fn = F(n-1) + F(n-2)\n",
    "    else:\n",
    "        return fibonacci(n - 1) + fibonacci(n - 2)\n",
    "\n",
    "print(f\"Bilangan Fibonacci ke-7 adalah: {fibonacci(7)}\")\n",
    "# Output: 13 (Deret: 0, 1, 1, 2, 3, 5, 8, 13)"
   ]
  },
  {
   "cell_type": "markdown",
   "id": "2e8df9e1",
   "metadata": {},
   "source": [
    "Penjumlahan List/array"
   ]
  },
  {
   "cell_type": "code",
   "execution_count": 20,
   "id": "d09739b4",
   "metadata": {},
   "outputs": [
    {
     "name": "stdout",
     "output_type": "stream",
     "text": [
      "Total penjumlahan list [10, 20, 5] adalah: 35\n"
     ]
    }
   ],
   "source": [
    "def jumlahkan_list(data_list):\n",
    "    # Basis Kasus: List kosong, jumlahnya 0\n",
    "    if not data_list:\n",
    "        return 0\n",
    "    # Langkah Rekursif: Elemen pertama + Jumlah(Sisa List)\n",
    "    else:\n",
    "        # data_list[0] = elemen pertama\n",
    "        # data_list[1:] = semua elemen setelah yang pertama\n",
    "        return data_list[0] + jumlahkan_list(data_list[1:])\n",
    "\n",
    "angka_list = [10, 20, 5]\n",
    "print(f\"Total penjumlahan list {angka_list} adalah: {jumlahkan_list(angka_list)}\")\n",
    "# Output: 35 (10 + 20 + 5)"
   ]
  },
  {
   "cell_type": "markdown",
   "id": "8b5811b5",
   "metadata": {},
   "source": [
    "Binary Search"
   ]
  },
  {
   "cell_type": "code",
   "execution_count": 21,
   "id": "57ca8953",
   "metadata": {},
   "outputs": [
    {
     "name": "stdout",
     "output_type": "stream",
     "text": [
      "Target 23 ditemukan pada indeks ke-5\n"
     ]
    }
   ],
   "source": [
    "def pencarian_biner_rekursif(arr, target, rendah, tinggi):\n",
    "    # Basis Kasus 1: Target tidak ditemukan\n",
    "    if rendah > tinggi:\n",
    "        return -1\n",
    "\n",
    "    tengah = (rendah + tinggi) // 2\n",
    "\n",
    "    # Basis Kasus 2: Target ditemukan\n",
    "    if arr[tengah] == target:\n",
    "        return tengah\n",
    "\n",
    "    # Langkah Rekursif 1: Target ada di sisi kiri\n",
    "    elif arr[tengah] > target:\n",
    "        return pencarian_biner_rekursif(arr, target, rendah, tengah - 1)\n",
    "    \n",
    "    # Langkah Rekursif 2: Target ada di sisi kanan\n",
    "    else:\n",
    "        return pencarian_biner_rekursif(arr, target, tengah + 1, tinggi)\n",
    "\n",
    "data_urut = [2, 5, 8, 12, 16, 23, 38, 56, 72, 91]\n",
    "target_value = 23\n",
    "hasil_index = pencarian_biner_rekursif(data_urut, target_value, 0, len(data_urut) - 1)\n",
    "\n",
    "if hasil_index != -1:\n",
    "    print(f\"Target {target_value} ditemukan pada indeks ke-{hasil_index}\")\n",
    "else:\n",
    "    print(f\"Target {target_value} tidak ditemukan.\")\n",
    "# Output: Target 23 ditemukan pada indeks ke-5"
   ]
  },
  {
   "cell_type": "markdown",
   "id": "7dbb9a98",
   "metadata": {},
   "source": [
    "Membalikkan string"
   ]
  },
  {
   "cell_type": "code",
   "execution_count": null,
   "id": "b3ff7800",
   "metadata": {},
   "outputs": [
    {
     "name": "stdout",
     "output_type": "stream",
     "text": [
      "String Asli: Python\n",
      "String Terbalik: nohtyP\n"
     ]
    }
   ],
   "source": [
    "def balikkan_string(s):\n",
    "    \"\"\"\n",
    "    Membalikkan string secara rekursif.\n",
    "    \"\"\"\n",
    "    # Basis Kasus: Jika string kosong (panjang 0)\n",
    "    if len(s) <= 1:\n",
    "        return s\n",
    "    \n",
    "    # Langkah Rekursif:\n",
    "    # s[-1] mengambil karakter terakhir \n",
    "    # s[:-1] mengambil semua karakter kecuali yang terakhir\n",
    "    # Fungsi memanggil dirinya sendiri untuk membalikkan bagian, \n",
    "    # lalu menambahkan elemen terakhir di depannya.\n",
    "    \n",
    "    karakter_terakhir = s[-1]\n",
    "    sisa_string = s[:-1]\n",
    "    \n",
    "    # Langkah Rekursif: Karakter terakhir + Balik(Sisa String)\n",
    "    return karakter_terakhir + balikkan_string(sisa_string)\n",
    "\n",
    "kata = \"Python\"\n",
    "kata_terbalik = balikkan_string(kata)\n",
    "\n",
    "print(f\"String Asli: {kata}\")\n",
    "print(f\"String Terbalik: {kata_terbalik}\")\n",
    "# Output: nohtyP"
   ]
  },
  {
   "cell_type": "markdown",
   "id": "e13ff2ec",
   "metadata": {},
   "source": [
    "Menggabungkan String"
   ]
  },
  {
   "cell_type": "code",
   "execution_count": null,
   "id": "663f2351",
   "metadata": {},
   "outputs": [
    {
     "name": "stdout",
     "output_type": "stream",
     "text": [
      "List Kata: ['Ini', 'adalah', 'contoh', 'kalimat', 'rekursif']\n",
      "Kalimat Hasil: Ini adalah contoh kalimat rekursif\n"
     ]
    }
   ],
   "source": [
    "def gabung_kata_rekursif(list_kata):\n",
    "    \"\"\"\n",
    "    Menggabungkan list kata menjadi satu string (kalimat) yang dipisahkan spasi.\n",
    "    \"\"\"\n",
    "    \n",
    "    # Basis Kasus 1: List kosong\n",
    "    if not list_kata:\n",
    "        return \"\"\n",
    "    \n",
    "    # Basis Kasus 2: List hanya berisi satu kata\n",
    "    if len(list_kata) == 1:\n",
    "        return list_kata[0]\n",
    "    \n",
    "    # Langkah Rekursif:\n",
    "    # Ambil kata pertama \n",
    "    kata_pertama = list_kata[0]\n",
    "    \n",
    "    # Ambil sisa list \n",
    "    sisa_list = list_kata[1:]\n",
    "    \n",
    "    # Hasil: Kata Pertama + Spasi + Gabung(Sisa List)\n",
    "    return kata_pertama + \" \" + gabung_kata_rekursif(sisa_list)\n",
    "\n",
    "# Contoh Penggunaan\n",
    "kata_kata = [\"Ini\", \"adalah\", \"contoh\", \"kalimat\", \"rekursif\"]\n",
    "kalimat_hasil = gabung_kata_rekursif(kata_kata)\n",
    "\n",
    "print(f\"List Kata: {kata_kata}\")\n",
    "print(f\"Kalimat Hasil: {kalimat_hasil}\")\n",
    "# Output: Ini adalah contoh kalimat rekursif"
   ]
  }
 ],
 "metadata": {
  "kernelspec": {
   "display_name": "base",
   "language": "python",
   "name": "python3"
  },
  "language_info": {
   "codemirror_mode": {
    "name": "ipython",
    "version": 3
   },
   "file_extension": ".py",
   "mimetype": "text/x-python",
   "name": "python",
   "nbconvert_exporter": "python",
   "pygments_lexer": "ipython3",
   "version": "3.13.5"
  }
 },
 "nbformat": 4,
 "nbformat_minor": 5
}
