{
 "cells": [
  {
   "cell_type": "markdown",
   "id": "8767d45a",
   "metadata": {},
   "source": [
    "# Sets"
   ]
  },
  {
   "cell_type": "markdown",
   "id": "0a8e6fe7",
   "metadata": {},
   "source": [
    "Set = himpunan (unik, tidak ada duplikat, tidak urut)"
   ]
  },
  {
   "cell_type": "code",
   "execution_count": 4,
   "id": "279be24b",
   "metadata": {},
   "outputs": [
    {
     "name": "stdout",
     "output_type": "stream",
     "text": [
      "Himpunan A: {1, 2, 3, 4}\n",
      "Himpunan B: {3, 4, 5, 6}\n",
      "Union A ∪ B: {1, 2, 3, 4, 5, 6}\n",
      "Irisan A ∩ B: {3, 4}\n",
      "Selisih A - B: {1, 2}\n",
      "Selisih B - A: {5, 6}\n"
     ]
    }
   ],
   "source": [
    "A = {1, 2, 3, 4}\n",
    "B = {3, 4, 5, 6}\n",
    "\n",
    "print(\"Himpunan A:\", A)\n",
    "print(\"Himpunan B:\", B)\n",
    "\n",
    "# Operasi himpunan\n",
    "print(\"Union A ∪ B:\", A | B)\n",
    "print(\"Irisan A ∩ B:\", A & B)\n",
    "print(\"Selisih A - B:\", A - B)\n",
    "print(\"Selisih B - A:\", B - A)\n"
   ]
  },
  {
   "cell_type": "markdown",
   "id": "308fd63a",
   "metadata": {},
   "source": [
    "# Relation"
   ]
  },
  {
   "cell_type": "markdown",
   "id": "b604b1df",
   "metadata": {},
   "source": [
    "Relasi = himpunan pasangan terurut (ordered pairs)\n",
    "Misalnya relasi \"kurang dari\" pada himpunan {1, 2, 3}"
   ]
  },
  {
   "cell_type": "code",
   "execution_count": 5,
   "id": "8c8afd8c",
   "metadata": {},
   "outputs": [
    {
     "name": "stdout",
     "output_type": "stream",
     "text": [
      "\n",
      "Relasi 'kurang dari' pada X: {(2, 3), (1, 2), (1, 3)}\n"
     ]
    }
   ],
   "source": [
    "X = {1, 2, 3}\n",
    "relation_less_than = {(x, y) for x in X for y in X if x < y}\n",
    "\n",
    "print(\"\\nRelasi 'kurang dari' pada X:\", relation_less_than)"
   ]
  },
  {
   "cell_type": "markdown",
   "id": "ac274fdc",
   "metadata": {},
   "source": [
    "# Function involusi dan Surjectif"
   ]
  },
  {
   "cell_type": "code",
   "execution_count": 6,
   "id": "1389ffa0",
   "metadata": {},
   "outputs": [
    {
     "name": "stdout",
     "output_type": "stream",
     "text": [
      "Fungsi: {1: 2, 2: 1, 3: 4, 4: 3}\n",
      "Apakah involusi?  True\n",
      "Apakah surjektif?  True\n",
      "Hasil range: {1, 2, 3, 4}\n"
     ]
    }
   ],
   "source": [
    "# Himpunan domain/kodomain\n",
    "X = {1, 2, 3, 4}\n",
    "\n",
    "# Definisi fungsi sebagai dictionary\n",
    "# mapping: 1->2, 2->1, 3->4, 4->3\n",
    "f_map = {1: 2, 2: 1, 3: 4, 4: 3}\n",
    "\n",
    "def f(x):\n",
    "    return f_map[x]\n",
    "\n",
    "# Cek sifat involusi: f(f(x)) == x\n",
    "is_involution = all(f(f(x)) == x for x in X)\n",
    "\n",
    "# Cek surjektif: range = codomain\n",
    "range_f = {f(x) for x in X}\n",
    "is_surjective = (range_f == X)\n",
    "\n",
    "print(\"Fungsi:\", f_map)\n",
    "print(\"Apakah involusi? \", is_involution)\n",
    "print(\"Apakah surjektif? \", is_surjective)\n",
    "print(\"Hasil range:\", range_f)\n"
   ]
  },
  {
   "cell_type": "markdown",
   "id": "07b66f1b",
   "metadata": {},
   "source": [
    "# Faktorial"
   ]
  },
  {
   "cell_type": "code",
   "execution_count": 7,
   "id": "a6df5d9f",
   "metadata": {},
   "outputs": [
    {
     "name": "stdout",
     "output_type": "stream",
     "text": [
      "Faktorial 5! = 120\n",
      "\n"
     ]
    }
   ],
   "source": [
    "def factorial(n):\n",
    "    hasil = 1\n",
    "    for i in range(1, n + 1):\n",
    "        hasil *= i\n",
    "    return hasil\n",
    "\n",
    "print(\"Faktorial 5! =\", factorial(5))\n",
    "print()"
   ]
  },
  {
   "cell_type": "markdown",
   "id": "d92f08a4",
   "metadata": {},
   "source": [
    "# Fibonacii"
   ]
  },
  {
   "cell_type": "code",
   "execution_count": 8,
   "id": "f87e18df",
   "metadata": {},
   "outputs": [
    {
     "name": "stdout",
     "output_type": "stream",
     "text": [
      "Fibonacci(10): [0, 1, 1, 2, 3, 5, 8, 13, 21, 34]\n"
     ]
    }
   ],
   "source": [
    "def fibonacci(n):\n",
    "    if n <= 1:\n",
    "        return n\n",
    "    else:\n",
    "        return fibonacci(n-1) + fibonacci(n-2)\n",
    "\n",
    "print(\"Fibonacci(10):\", [fibonacci(i) for i in range(10)])"
   ]
  },
  {
   "cell_type": "markdown",
   "id": "4447525f",
   "metadata": {},
   "source": [
    "# Basic Counting: Product Rule & Sum Rule"
   ]
  },
  {
   "cell_type": "markdown",
   "id": "71acf629",
   "metadata": {},
   "source": [
    "Product Rule: misal ada 3 pilihan baju & 2 pilihan celana"
   ]
  },
  {
   "cell_type": "code",
   "execution_count": 9,
   "id": "38a3be03",
   "metadata": {},
   "outputs": [
    {
     "name": "stdout",
     "output_type": "stream",
     "text": [
      "\n",
      "Product Rule (baju * celana): 6\n"
     ]
    }
   ],
   "source": [
    "baju = 3\n",
    "celana = 2\n",
    "print(\"\\nProduct Rule (baju * celana):\", baju * celana)"
   ]
  },
  {
   "cell_type": "markdown",
   "id": "3cf86bc0",
   "metadata": {},
   "source": [
    "Sum Rule: misal ada 4 pilihan kursus atau 5 pilihan lomba"
   ]
  },
  {
   "cell_type": "code",
   "execution_count": 10,
   "id": "0ca5a19d",
   "metadata": {},
   "outputs": [
    {
     "name": "stdout",
     "output_type": "stream",
     "text": [
      "Sum Rule (kursus + lomba): 9\n"
     ]
    }
   ],
   "source": [
    "kursus = 4\n",
    "lomba = 5\n",
    "print(\"Sum Rule (kursus + lomba):\", kursus + lomba)"
   ]
  },
  {
   "cell_type": "code",
   "execution_count": 12,
   "id": "72a83975",
   "metadata": {},
   "outputs": [
    {
     "name": "stdout",
     "output_type": "stream",
     "text": [
      "Set A (Sains): {'Kimia', 'Matematika', 'Fisika'}\n",
      "Set B (Programming): {'C++', 'Python', 'Java'}\n",
      "\n",
      "[1] Jumlah kemungkinan pasangan kursus: 9\n",
      "\n",
      "[2] Relasi: {('Python', 'C++'), ('Matematika', 'Fisika')}\n",
      "\n",
      "[3] Uji fungsi involusi:\n",
      "f(f(Kimia)) = Kimia\n",
      "f(f(Matematika)) = Matematika\n",
      "f(f(Fisika)) = Fisika\n",
      "\n",
      "[4] Jumlah cara memilih 3 kursus dari 6 total: 20\n",
      "\n",
      "[5] Jumlah cara duduk siswa di 5 kursus berderet: 120\n",
      "\n",
      "[6] Jumlah siswa di kelas ke-7 (Fibonacci): 13\n"
     ]
    }
   ],
   "source": [
    "import math\n",
    "\n",
    "A = {\"Matematika\", \"Fisika\", \"Kimia\"}\n",
    "B = {\"Python\", \"C++\", \"Java\"}\n",
    "\n",
    "print(\"Set A (Sains):\", A)\n",
    "print(\"Set B (Programming):\", B)\n",
    "\n",
    "product_rule = len(A) * len(B)\n",
    "print(\"\\n[1] Jumlah kemungkinan pasangan kursus:\", product_rule)\n",
    "\n",
    "relation = {(\"Matematika\", \"Fisika\"), (\"Python\", \"C++\")}\n",
    "print(\"\\n[2] Relasi:\", relation)\n",
    "\n",
    "def involusi(course):\n",
    "    if course == \"Matematika\": return \"Fisika\"\n",
    "    if course == \"Fisika\": return \"Matematika\"\n",
    "    return course\n",
    "\n",
    "print(\"\\n[3] Uji fungsi involusi:\")\n",
    "for c in A:\n",
    "    print(f\"f(f({c})) = {involusi(involusi(c))}\")\n",
    "\n",
    "n = len(A | B)\n",
    "r = 3\n",
    "kombinasi = math.comb(n, r)\n",
    "print(f\"\\n[4] Jumlah cara memilih 3 kursus dari {n} total:\", kombinasi)\n",
    "\n",
    "m = 5\n",
    "permutasi = math.factorial(m)\n",
    "print(f\"\\n[5] Jumlah cara duduk siswa di {m} kursus berderet:\", permutasi)\n",
    "\n",
    "def fibonacci(n):\n",
    "    if n <= 1:\n",
    "        return n\n",
    "    return fibonacci(n-1) + fibonacci(n-2)\n",
    "\n",
    "kelas_ke = 7\n",
    "print(f\"\\n[6] Jumlah siswa di kelas ke-{kelas_ke} (Fibonacci):\", fibonacci(kelas_ke))\n"
   ]
  }
 ],
 "metadata": {
  "kernelspec": {
   "display_name": "base",
   "language": "python",
   "name": "python3"
  },
  "language_info": {
   "codemirror_mode": {
    "name": "ipython",
    "version": 3
   },
   "file_extension": ".py",
   "mimetype": "text/x-python",
   "name": "python",
   "nbconvert_exporter": "python",
   "pygments_lexer": "ipython3",
   "version": "3.13.5"
  }
 },
 "nbformat": 4,
 "nbformat_minor": 5
}
